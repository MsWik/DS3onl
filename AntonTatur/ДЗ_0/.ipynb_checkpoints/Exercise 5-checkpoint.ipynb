{
 "cells": [
  {
   "cell_type": "markdown",
   "id": "2c0200a7",
   "metadata": {},
   "source": [
    "# "
   ]
  },
  {
   "cell_type": "code",
   "execution_count": 1,
   "id": "46f271b2",
   "metadata": {},
   "outputs": [
    {
     "name": "stdout",
     "output_type": "stream",
     "text": [
      "8\n"
     ]
    }
   ],
   "source": [
    "#Напишите функцию, которая на вход принимает два вектора (два одномерных массива) и\n",
    "#возвращает скалярное произведение данных векторов.\n",
    "#Способ 1\n",
    "\n",
    "def scal_mult(x,y):\n",
    "    a = 0\n",
    "    if len (x)!=len(y):\n",
    "        return (\"векторы несоразмерны\")\n",
    "    else:\n",
    "        for c in range(len(x)):\n",
    "            a+=x[c]*y[c]\n",
    "    return (a)\n",
    "\n",
    "\n",
    "a=[2,1]\n",
    "b=[3,2]\n",
    "\n",
    "print (scal_mult(a,b))\n"
   ]
  },
  {
   "cell_type": "code",
   "execution_count": 2,
   "id": "aebd73b7",
   "metadata": {},
   "outputs": [
    {
     "name": "stdout",
     "output_type": "stream",
     "text": [
      "8\n"
     ]
    }
   ],
   "source": [
    "#Напишите функцию, которая на вход принимает два вектора (два одномерных массива) и\n",
    "#возвращает скалярное произведение данных векторов.\n",
    "#Способ 2\n",
    "\n",
    "from numpy import dot\n",
    "def scal_mult2(x,y):\n",
    "    return dot(x,y)\n",
    "\n",
    "a=[2,1]\n",
    "b=[3,2]\n",
    "\n",
    "print (scal_mult2(a,b))"
   ]
  },
  {
   "cell_type": "code",
   "execution_count": null,
   "id": "fad316f3",
   "metadata": {},
   "outputs": [],
   "source": []
  }
 ],
 "metadata": {
  "kernelspec": {
   "display_name": "Python 3 (ipykernel)",
   "language": "python",
   "name": "python3"
  },
  "language_info": {
   "codemirror_mode": {
    "name": "ipython",
    "version": 3
   },
   "file_extension": ".py",
   "mimetype": "text/x-python",
   "name": "python",
   "nbconvert_exporter": "python",
   "pygments_lexer": "ipython3",
   "version": "3.9.12"
  }
 },
 "nbformat": 4,
 "nbformat_minor": 5
}
