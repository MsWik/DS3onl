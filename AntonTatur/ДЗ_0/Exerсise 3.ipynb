{
 "cells": [
  {
   "cell_type": "code",
   "execution_count": 2,
   "id": "227c9bc5",
   "metadata": {},
   "outputs": [
    {
     "name": "stdout",
     "output_type": "stream",
     "text": [
      "{1, 2, 3, 4, 5, 6, 99, 55}\n"
     ]
    }
   ],
   "source": [
    "#Cпособ 1\n",
    "def unique(x):\n",
    "    return set(x)\n",
    "\n",
    "print (unique(([1,2,3,4,4,4,4,5,5,5,5,6,6,1,2,3,55,99,1,55])))"
   ]
  },
  {
   "cell_type": "code",
   "execution_count": 3,
   "id": "f719b960",
   "metadata": {},
   "outputs": [
    {
     "name": "stdout",
     "output_type": "stream",
     "text": [
      "[ 1  2  3  4  5  6 55 99]\n"
     ]
    }
   ],
   "source": [
    "#Cпособ 2\n",
    "import numpy as np\n",
    "def unique2(x):\n",
    "    return np.unique(x)\n",
    "print (unique2(([1,2,3,4,4,4,4,5,5,5,5,6,6,1,2,3,55,99,1,55])))"
   ]
  },
  {
   "cell_type": "code",
   "execution_count": 4,
   "id": "6af912f5",
   "metadata": {},
   "outputs": [
    {
     "name": "stdout",
     "output_type": "stream",
     "text": [
      "[1, 2, 3, 4, 5, 6, 55, 99]\n"
     ]
    }
   ],
   "source": [
    "#Cпособ 3\n",
    "def unique3(x):\n",
    "    y=[]\n",
    "    for a in range(len(x)):\n",
    "        if x[a] in y:\n",
    "            continue\n",
    "        else:\n",
    "            y.append(x[a])\n",
    "    return y\n",
    "print (unique3(([1,2,3,4,4,4,4,5,5,5,5,6,6,1,2,3,55,99,1,55])))"
   ]
  }
 ],
 "metadata": {
  "kernelspec": {
   "display_name": "Python 3 (ipykernel)",
   "language": "python",
   "name": "python3"
  },
  "language_info": {
   "codemirror_mode": {
    "name": "ipython",
    "version": 3
   },
   "file_extension": ".py",
   "mimetype": "text/x-python",
   "name": "python",
   "nbconvert_exporter": "python",
   "pygments_lexer": "ipython3",
   "version": "3.9.12"
  }
 },
 "nbformat": 4,
 "nbformat_minor": 5
}
