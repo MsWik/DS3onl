{
 "cells": [
  {
   "cell_type": "code",
   "execution_count": 2,
   "id": "027baa17",
   "metadata": {},
   "outputs": [
    {
     "name": "stdout",
     "output_type": "stream",
     "text": [
      "0.007722123286332261\n"
     ]
    }
   ],
   "source": [
    "# Напишите функцию, которая принимает на вход два вектора и рассчитывает косинусное расстояние данных векторов. Способ 1\n",
    "def cos_dist_calc(x,y):\n",
    "    a = 0\n",
    "    b1 = 0\n",
    "    b2 = 0\n",
    "    if len (x)!=len(y):\n",
    "        return (\"векторы несоразмерны\")\n",
    "    else:\n",
    "        for c in range(len(x)):\n",
    "            a+=x[c]*y[c]\n",
    "            b1+=x[c]*x[c]\n",
    "            b2+=y[c]*y[c]\n",
    "    return (1-a/((b1*b2)**0.5))\n",
    "\n",
    "a=[2,1]\n",
    "b=[3,2]\n",
    "\n",
    "print (cos_dist_calc(a,b))"
   ]
  },
  {
   "cell_type": "code",
   "execution_count": 3,
   "id": "9435afb7",
   "metadata": {},
   "outputs": [
    {
     "name": "stdout",
     "output_type": "stream",
     "text": [
      "0.007722123286332261\n"
     ]
    }
   ],
   "source": [
    "# Напишите функцию, которая принимает на вход два вектора и рассчитывает косинусное расстояние данных векторов. Способ 2\n",
    "import scipy.spatial.distance as ds\n",
    "def cos_dist_calc2(x,y):\n",
    "    return ds.cosine(x,y)\n",
    "\n",
    "a=[2,1]\n",
    "b=[3,2]\n",
    "\n",
    "print (cos_dist_calc2(a,b))"
   ]
  },
  {
   "cell_type": "code",
   "execution_count": null,
   "id": "c247d49a",
   "metadata": {},
   "outputs": [],
   "source": []
  }
 ],
 "metadata": {
  "kernelspec": {
   "display_name": "Python 3 (ipykernel)",
   "language": "python",
   "name": "python3"
  },
  "language_info": {
   "codemirror_mode": {
    "name": "ipython",
    "version": 3
   },
   "file_extension": ".py",
   "mimetype": "text/x-python",
   "name": "python",
   "nbconvert_exporter": "python",
   "pygments_lexer": "ipython3",
   "version": "3.9.12"
  }
 },
 "nbformat": 4,
 "nbformat_minor": 5
}
