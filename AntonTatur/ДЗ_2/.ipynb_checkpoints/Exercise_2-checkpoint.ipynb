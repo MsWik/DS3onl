{
 "cells": [
  {
   "cell_type": "markdown",
   "id": "b5506096",
   "metadata": {},
   "source": [
    "Tatur A.A.\n",
    "\n",
    "ver. 0.1\n",
    "\n",
    "09/09/2022\n",
    "\n",
    "Вывод: программа ищет корни квадратного уравнения вида axx+b*x+c. На вход программы подаются a,b,c. Результатом работы программы – действительные корни или сообщение что корней нет."
   ]
  },
  {
   "cell_type": "code",
   "execution_count": 1,
   "id": "0d1dc24f",
   "metadata": {},
   "outputs": [
    {
     "name": "stdout",
     "output_type": "stream",
     "text": [
      "У уравнения нет корней\n"
     ]
    }
   ],
   "source": [
    "def square(a,b,c):\n",
    "    a=int(a)\n",
    "    b=int(b)\n",
    "    c=int(c)\n",
    "    \n",
    "    discr=b**2-4*a*c\n",
    "    if discr<0:\n",
    "        return \"У уравнения нет корней\"\n",
    "    elif discr==0:\n",
    "        return (-b+discr**0.5)/(2*a)\n",
    "    elif discr>0:\n",
    "        return (-b+discr**0.5)/(2*a), (-b-discr**0.5)/(2*a)\n",
    "\n",
    "print (square(5,3,7))\n"
   ]
  },
  {
   "cell_type": "code",
   "execution_count": null,
   "id": "46f3c82d",
   "metadata": {},
   "outputs": [],
   "source": []
  }
 ],
 "metadata": {
  "kernelspec": {
   "display_name": "Python 3 (ipykernel)",
   "language": "python",
   "name": "python3"
  },
  "language_info": {
   "codemirror_mode": {
    "name": "ipython",
    "version": 3
   },
   "file_extension": ".py",
   "mimetype": "text/x-python",
   "name": "python",
   "nbconvert_exporter": "python",
   "pygments_lexer": "ipython3",
   "version": "3.9.12"
  }
 },
 "nbformat": 4,
 "nbformat_minor": 5
}
