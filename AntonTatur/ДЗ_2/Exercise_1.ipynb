{
 "cells": [
  {
   "cell_type": "markdown",
   "id": "1b30f12e",
   "metadata": {},
   "source": [
    "Татур А.А.\n",
    "ver 0.1\n",
    "09.09.2022\n",
    "\n",
    "Вывод: программа рассчитывает расход топлива маршрута, на вход подается длина маршрута и расход топлива на 100 километров. Используйте try catch (проверка что пользователь ввел число>0). "
   ]
  },
  {
   "cell_type": "code",
   "execution_count": 3,
   "id": "e6f5c8e5",
   "metadata": {},
   "outputs": [
    {
     "name": "stdout",
     "output_type": "stream",
     "text": [
      "Введите расход топлива - 10\n",
      "Введите протяженность пути - 10\n",
      "100\n"
     ]
    }
   ],
   "source": [
    "def oil_count(length, oil):\n",
    "    try:\n",
    "        assert length>0\n",
    "        assert oil >0\n",
    "    except:\n",
    "        return (\"Расстояние и расход топлива должны быть больше нуля\")\n",
    "    else:\n",
    "        return length*oil\n",
    "    \n",
    "print(oil_count (int(input(\"Введите расход топлива - \")), \n",
    "                 int(input(\"Введите протяженность пути - \"))))"
   ]
  }
 ],
 "metadata": {
  "kernelspec": {
   "display_name": "Python 3 (ipykernel)",
   "language": "python",
   "name": "python3"
  },
  "language_info": {
   "codemirror_mode": {
    "name": "ipython",
    "version": 3
   },
   "file_extension": ".py",
   "mimetype": "text/x-python",
   "name": "python",
   "nbconvert_exporter": "python",
   "pygments_lexer": "ipython3",
   "version": "3.9.12"
  }
 },
 "nbformat": 4,
 "nbformat_minor": 5
}
