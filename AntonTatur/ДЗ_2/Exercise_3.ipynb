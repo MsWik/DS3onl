{
 "cells": [
  {
   "cell_type": "markdown",
   "id": "8a30d9f2",
   "metadata": {},
   "source": [
    "Tatur A.A.\n",
    "ver. 0.1\n",
    "09/09/2022\n",
    "\n",
    "Вывод: программа, находит наибольшее и наименьшее значение функции y = -26x^2+25*x-9 на отрезке [-5,5]. Для решения используйте while и какой то шаг (например 0.1)."
   ]
  },
  {
   "cell_type": "code",
   "execution_count": 1,
   "id": "03d6e1cc",
   "metadata": {},
   "outputs": [
    {
     "name": "stdout",
     "output_type": "stream",
     "text": [
      "-3.0\n",
      "-784\n"
     ]
    }
   ],
   "source": [
    "value=[]\n",
    "x=-5\n",
    "while x<5.1:\n",
    "    x=round (x,1)\n",
    "    value.append(round ((-26*x**2+25*x-9),3))\n",
    "    x+=0.1\n",
    "\n",
    "print (max(value))\n",
    "print (min(value))"
   ]
  }
 ],
 "metadata": {
  "kernelspec": {
   "display_name": "Python 3 (ipykernel)",
   "language": "python",
   "name": "python3"
  },
  "language_info": {
   "codemirror_mode": {
    "name": "ipython",
    "version": 3
   },
   "file_extension": ".py",
   "mimetype": "text/x-python",
   "name": "python",
   "nbconvert_exporter": "python",
   "pygments_lexer": "ipython3",
   "version": "3.9.12"
  }
 },
 "nbformat": 4,
 "nbformat_minor": 5
}
