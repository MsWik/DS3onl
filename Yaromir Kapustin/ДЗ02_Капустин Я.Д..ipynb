{
 "cells": [
  {
   "cell_type": "markdown",
   "id": "f4244301",
   "metadata": {},
   "source": [
    "⦁\tНапишите программу, которая рассчитывает расход топлива маршрута, на вход подается длина маршрута и расход топлива на 100 километров. Используйте try catch (проверка что пользователь ввел число>0). "
   ]
  },
  {
   "cell_type": "code",
   "execution_count": 29,
   "id": "ada560bf",
   "metadata": {},
   "outputs": [
    {
     "data": {
      "text/plain": [
       "1334.0"
      ]
     },
     "execution_count": 29,
     "metadata": {},
     "output_type": "execute_result"
    }
   ],
   "source": [
    "def oil_quantity(route_distance, gas_consumption):\n",
    "    try:\n",
    "        oil = route_distance/gas_consumption\n",
    "    except ZeroDivisionError:\n",
    "        print(\"positive value expected\")\n",
    "    return oil\n",
    "\n",
    "\n",
    "oil_quantity(40020, 30)\n",
    "\n"
   ]
  },
  {
   "cell_type": "markdown",
   "id": "51bb478e",
   "metadata": {},
   "source": [
    "⦁\tНапишите программу, которая ищет корни квадратного уравнения вида a*x*x+b*x+c. На вход программы подаются a,b,c. Результатом работы программы – действительные корни или сообщение что корней нет. "
   ]
  },
  {
   "cell_type": "code",
   "execution_count": 41,
   "id": "49edd6d4",
   "metadata": {},
   "outputs": [
    {
     "data": {
      "text/plain": [
       "[3.0]"
      ]
     },
     "execution_count": 41,
     "metadata": {},
     "output_type": "execute_result"
    }
   ],
   "source": [
    "def sq_equation(a, b, c):\n",
    "    D = b**2 - 4*a*c\n",
    "    roots = []\n",
    "    if D > 0:\n",
    "        x1 = (-b + D**0.5)/2*a\n",
    "        roots.append(x1)\n",
    "        x2 = (-b - D**0.5)/2*a\n",
    "        roots.append(x2)\n",
    "    elif D == 0:\n",
    "        x1 = -b/2*a \n",
    "        roots.append(x1)\n",
    "    else:\n",
    "        print(\"there are no roots\")\n",
    "    return(roots)\n",
    "\n",
    "\n",
    "sq_equation(1,-6,9)"
   ]
  },
  {
   "cell_type": "markdown",
   "id": "ecd9719c",
   "metadata": {},
   "source": [
    "⦁\tНапишите программу, находящую наибольшее и наименьшее значение функции y = -26*x**2+25*x-9 на отрезке [-5,5]. Для решения и используйте while и какой то шаг (например 0.1). "
   ]
  },
  {
   "cell_type": "code",
   "execution_count": 1,
   "id": "8bdb3d13",
   "metadata": {},
   "outputs": [
    {
     "data": {
      "text/plain": [
       "(-784, -9)"
      ]
     },
     "execution_count": 1,
     "metadata": {},
     "output_type": "execute_result"
    }
   ],
   "source": [
    "def extremums():\n",
    "    y_values = []\n",
    "    for x in range(-5, 6):\n",
    "        y = -26*x**2 + 25*x - 9\n",
    "        y_values.append(y)\n",
    "    return min(y_values), max(y_values)\n",
    "\n",
    "\n",
    "extremums()"
   ]
  },
  {
   "cell_type": "code",
   "execution_count": null,
   "id": "9e651470",
   "metadata": {},
   "outputs": [],
   "source": []
  }
 ],
 "metadata": {
  "kernelspec": {
   "display_name": "Python 3 (ipykernel)",
   "language": "python",
   "name": "python3"
  },
  "language_info": {
   "codemirror_mode": {
    "name": "ipython",
    "version": 3
   },
   "file_extension": ".py",
   "mimetype": "text/x-python",
   "name": "python",
   "nbconvert_exporter": "python",
   "pygments_lexer": "ipython3",
   "version": "3.9.12"
  }
 },
 "nbformat": 4,
 "nbformat_minor": 5
}
