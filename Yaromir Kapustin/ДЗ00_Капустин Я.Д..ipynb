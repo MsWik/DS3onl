{
 "cells": [
  {
   "cell_type": "code",
   "execution_count": 5,
   "id": "e83573dd",
   "metadata": {},
   "outputs": [
    {
     "data": {
      "image/png": "[encoded data removed]",
      "text/plain": [
       "<Figure size 432x288 with 1 Axes>"
      ]
     },
     "metadata": {
      "needs_background": "light"
     },
     "output_type": "display_data"
    }
   ],
   "source": [
    "# Нарисовать график функций (линейный). Например график зависимости градуссов цельсия от фарингейта.\n",
    "# Внести случаную ошибку в формулу. Построить новый график.\n",
    "# *Попробовать решить данную задачу через LinearSVR*\n",
    "\n",
    "import pandas as pd\n",
    "import matplotlib.pyplot as plt\n",
    "\n",
    "cel = list(range(-20, 21))\n",
    "fah = list()\n",
    "fah_wrong = list()\n",
    "\n",
    "for c in cel:\n",
    "    f = round((c * 1.8 + 32), 1)\n",
    "    fah.append(f)\n",
    "\n",
    "for c in cel:\n",
    "    f = round((c * 1.5 + 16), 1)\n",
    "    fah_wrong.append(f)\n",
    "\n",
    "df = pd.DataFrame(zip(cel, fah, fah_wrong), columns=['C', 'F', 'Fw'])\n",
    "\n",
    "plt.plot(df['C'], df['F'], color='r')\n",
    "plt.plot(df['C'], df['Fw'], color='y')\n",
    "plt.scatter(df['C'], df['F'])\n",
    "plt.scatter(df['C'], df['Fw'])\n",
    "plt.xlabel('Celsius')\n",
    "plt.ylabel('Fahrenheit')\n",
    "plt.grid()\n",
    "plt.show()"
   ]
  },
  {
   "cell_type": "code",
   "execution_count": 3,
   "id": "de6cf674",
   "metadata": {},
   "outputs": [
    {
     "name": "stdout",
     "output_type": "stream",
     "text": [
      "0.34149539213148195\n",
      "0.34149539213148195\n"
     ]
    }
   ],
   "source": [
    "## Напишите функцию, которая принимает на вход два вектора и рассчитывает косинусное расстояние данных векторов.\n",
    "\n",
    "import numpy as np\n",
    "from numpy.linalg import norm\n",
    "from scipy.spatial import distance\n",
    "\n",
    "a = np.array([192, 168])\n",
    "b = np.array([0, 1])\n",
    "\n",
    "\n",
    "def cosine_similarity_numpy(a, b):\n",
    "    cosine_numpy = 1 - np.dot(a, b) / (norm(a) * norm(b))\n",
    "    return cosine_numpy\n",
    "\n",
    "\n",
    "def cosine_similarity_scipy(a, b):\n",
    "    cosine_scipy = distance.cosine(a, b)\n",
    "    return cosine_scipy\n",
    "\n",
    "\n",
    "print(cosine_similarity_numpy(a, b))\n",
    "print(cosine_similarity_scipy(a, b))"
   ]
  },
  {
   "cell_type": "code",
   "execution_count": 6,
   "id": "96403b39",
   "metadata": {},
   "outputs": [
    {
     "name": "stdout",
     "output_type": "stream",
     "text": [
      "34\n"
     ]
    }
   ],
   "source": [
    "# Напишите функцию, которая на вход принимает два вектора (два одномерных массива) и\n",
    "# возвращает скалярное произведение данных векторов.\n",
    "\n",
    "import numpy as np\n",
    "\n",
    "a = [2, 4]\n",
    "b = [3, 7]\n",
    "\n",
    "\n",
    "def scalar_multiplication(a, b):\n",
    "    s = np.dot(a, b)\n",
    "    return s\n",
    "\n",
    "\n",
    "print(scalar_multiplication(a, b))\n"
   ]
  },
  {
   "cell_type": "code",
   "execution_count": 7,
   "id": "e664cc4a",
   "metadata": {},
   "outputs": [
    {
     "name": "stdout",
     "output_type": "stream",
     "text": [
      "{9, 10, 16, 21, 28, -99, 29, -96, 34, -89, 39, 42, -85, -84, -81, 47, 49, 50, -79, 52, -76, 53, -71, 59, -68, -67, -66, 65, 67, -59, 71, 77, 79, 83, -43, 89, -36, 93, 94, 95, 96, -30, -28, -22, -17, -8}\n",
      "Number of unique values: 46\n"
     ]
    }
   ],
   "source": [
    "# Написать функцию на языке Python, аргументом которой является целочисленный массив.\n",
    "# Функция должна обработать целочисленный массив и вернуть только уникальные значения для данного массива.\n",
    "\n",
    "import random\n",
    "\n",
    "a = list(range(49))\n",
    "for i in a:\n",
    "    a[i] = random.randint(-100, 100)\n",
    "\n",
    "\n",
    "def unique_values(a):\n",
    "    a = set(a)\n",
    "    return a\n",
    "\n",
    "\n",
    "print(unique_values(a))\n",
    "print(\"Number of unique values: \" + str(len(unique_values(a))))\n"
   ]
  },
  {
   "cell_type": "code",
   "execution_count": null,
   "id": "72717eeb",
   "metadata": {},
   "outputs": [],
   "source": []
  }
 ],
 "metadata": {
  "kernelspec": {
   "display_name": "Python 3 (ipykernel)",
   "language": "python",
   "name": "python3"
  },
  "language_info": {
   "codemirror_mode": {
    "name": "ipython",
    "version": 3
   },
   "file_extension": ".py",
   "mimetype": "text/x-python",
   "name": "python",
   "nbconvert_exporter": "python",
   "pygments_lexer": "ipython3",
   "version": "3.9.12"
  }
 },
 "nbformat": 4,
 "nbformat_minor": 5
}
